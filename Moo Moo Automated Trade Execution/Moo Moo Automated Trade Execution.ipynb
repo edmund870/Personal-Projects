{
 "cells": [
  {
   "cell_type": "markdown",
   "metadata": {},
   "source": [
    "# Automated Trading Using Futu (Moo Moo)"
   ]
  },
  {
   "cell_type": "markdown",
   "metadata": {},
   "source": [
    "### This project seeks to take alerts from analyst in discord channels execute trades via the Moo Moo brokerage platform. The following steps are taken\n",
    "1. Open discord\n",
    "2. Toggle to the Analyst's channel\n",
    "3. Take screenshots of the discord channel\n",
    "4. Parse the alerts\n",
    "5. Execute trades\n",
    "6. Repeat steps 3 to 5"
   ]
  },
  {
   "cell_type": "code",
   "execution_count": 2,
   "metadata": {},
   "outputs": [],
   "source": [
    "from PIL import ImageGrab\n",
    "import pytesseract\n",
    "import numpy as np\n",
    "import pandas as pd\n",
    "from futu import *\n",
    "from datetime import datetime, timedelta\n",
    "from datetime import datetime\n",
    "from dateutil.relativedelta import relativedelta, FR\n",
    "import re"
   ]
  },
  {
   "cell_type": "markdown",
   "metadata": {},
   "source": [
    "# Check Accounts For Trading"
   ]
  },
  {
   "cell_type": "code",
   "execution_count": null,
   "metadata": {},
   "outputs": [],
   "source": [
    "# Open Connection to Futu\n",
    "trd_ctx = OpenSecTradeContext(filter_trdmarket=TrdMarket.US, host='127.0.0.1', port=11111, security_firm=SecurityFirm.FUTUSG)\n",
    "\n",
    "# Retrieve list of accounts\n",
    "ret, data = trd_ctx.get_acc_list()\n",
    "if ret == RET_OK:\n",
    "    print(data)"
   ]
  },
  {
   "cell_type": "markdown",
   "metadata": {},
   "source": [
    "# Check for Any Open Orders"
   ]
  },
  {
   "cell_type": "code",
   "execution_count": null,
   "metadata": {},
   "outputs": [],
   "source": [
    "# Define the environment and accountid\n",
    "env = TrdEnv.SIMULATE\n",
    "ID = 448100\n",
    "\n",
    "# Open Connection to Futu\n",
    "trd_ctx = OpenSecTradeContext(filter_trdmarket=TrdMarket.US, host='127.0.0.1', port=11111, security_firm=SecurityFirm.FUTUSG)\n",
    "\n",
    "# Retrieve order list\n",
    "ret, orders = trd_ctx.order_list_query(trd_env=env, acc_id = ID)\n",
    "if ret == RET_OK:\n",
    "    print(orders)"
   ]
  },
  {
   "cell_type": "markdown",
   "metadata": {},
   "source": [
    "# Trading Functions"
   ]
  },
  {
   "cell_type": "markdown",
   "metadata": {},
   "source": [
    "### Creating The Option From Alerts\n",
    "\n",
    "#### Moo Moo option IDs are in the form of US.[ticker][yymmdd][direction][strike0] eg. US.SPY220526P395000\n",
    "#### SAMPLE ALERT ['BTO QQQ 428P 2/6 @1.0 avg']"
   ]
  },
  {
   "cell_type": "markdown",
   "metadata": {},
   "source": [
    "![Sample Alert.png](<Sample Alert.png>)"
   ]
  },
  {
   "cell_type": "code",
   "execution_count": null,
   "metadata": {},
   "outputs": [],
   "source": [
    "def create_option():\n",
    "    # Screenshot window\n",
    "    snapshot = ImageGrab.grab()\n",
    "    (left, upper, right, lower) = (450, 500, 1650, 950)\n",
    "\n",
    "    # Crop Image\n",
    "    im_crop = snapshot.crop((left, upper, right, lower))\n",
    "\n",
    "    # Pytesseract for OCR\n",
    "    pytesseract.pytesseract.tesseract_cmd = r'C:\\\\Users\\\\Edmund\\\\AppData\\\\Local\\\\Programs\\\\Tesseract-OCR\\\\tesseract.exe'\n",
    "    img1 = np.array(im_crop)\n",
    "    text = pytesseract.image_to_string(img1)\n",
    "    text.splitlines()\n",
    "\n",
    "    # Create alert and option\n",
    "    action = ['BTO', 'STC']\n",
    "\n",
    "    # Filter for string that contains BTO / STC\n",
    "    alert = [s for s in text.splitlines() if any(xs in s for xs in action)]\n",
    "\n",
    "    no_alert = 0\n",
    "\n",
    "    if not alert == []:\n",
    "\n",
    "        # Takes the last alert\n",
    "        alert = alert[-1].split()\n",
    "\n",
    "        ticker = alert[1].replace('$','')\n",
    "        \n",
    "        if ticker == 'SPX': # No trading SPX if its the alert\n",
    "            return no_alert, no_alert, no_alert\n",
    "        else:           \n",
    "        \n",
    "            # Processing strike\n",
    "            strike = alert[2][:-1]\n",
    "            if strike.find('.5') != -1:\n",
    "                strike = strike.replace(\".5\",\"50\") # If there is 50 cents change .5 to 50\n",
    "            else:\n",
    "                strike = strike +'00'\n",
    "\n",
    "            # Processing direction (Call / Put)\n",
    "            direction = alert[2][-1].upper() # last letter\n",
    "\n",
    "            # Processing expiration\n",
    "            expiration = alert[3].split('/')\n",
    "\n",
    "            month = int(expiration[0])\n",
    "\n",
    "            if month < 10: # if expiration month < 10 pad a 0\n",
    "                month = '0'+str(month)\n",
    "\n",
    "            day = int(expiration [1]) \n",
    "            if day < 10: # if expiration day < 10 pad a 0\n",
    "                day = '0' + str(day)\n",
    "\n",
    "            year = 24\n",
    "\n",
    "            expiration = str(year) + str(month) + str(day)\n",
    "\n",
    "            # Processing entry price\n",
    "            price = alert[4].replace('@','')\n",
    "            price = price.replace(',','')\n",
    "            price = float(price)\n",
    "\n",
    "            # Final option ID\n",
    "            final = ticker+expiration+direction+strike\n",
    "            final = 'US.'+final+'0'\n",
    "            \n",
    "            # Getting the signal (Buy / Sell)\n",
    "            for i in action:\n",
    "                if i in alert:\n",
    "                    order = i\n",
    "            \n",
    "            return final, order, price\n",
    "    else:\n",
    "        return no_alert, no_alert, no_alert\n"
   ]
  },
  {
   "cell_type": "markdown",
   "metadata": {},
   "source": [
    "### Checking Buying Power"
   ]
  },
  {
   "cell_type": "code",
   "execution_count": null,
   "metadata": {},
   "outputs": [],
   "source": [
    "def check_bp(code, buy_price, env, ID):\n",
    "    ret, bp = trd_ctx.acctradinginfo_query(order_type = OrderType.NORMAL, \n",
    "                                           code = code, \n",
    "                                           price = buy_price+0.06, \n",
    "                                           trd_env = env, \n",
    "                                           acc_id = ID)\n",
    "    if ret == RET_OK:\n",
    "        if bp['max_cash_buy'][0] >= 1:\n",
    "            return True\n",
    "        else:\n",
    "            return False\n",
    "    else:\n",
    "        print('acctradinginfo_query error: ', bp)\n",
    "        return False"
   ]
  },
  {
   "cell_type": "markdown",
   "metadata": {},
   "source": [
    "### Checking Current Orders\n",
    "\n",
    "##### Before submitting new/repeated orders, we need to check if there are existing unfilled order"
   ]
  },
  {
   "cell_type": "code",
   "execution_count": null,
   "metadata": {},
   "outputs": [],
   "source": [
    "def check_order(code, which, env, ID):\n",
    "\n",
    "    # Status to look for\n",
    "    Status = ['SUBMITTING', 'SUBMITTED']\n",
    "\n",
    "    # Get orders\n",
    "    ret, orders = trd_ctx.order_list_query(trd_env = env, acc_id = ID)\n",
    "\n",
    "    if ret == RET_OK:\n",
    "        if orders.empty: # No current orders, proceed\n",
    "            return True\n",
    "        \n",
    "        elif orders[(orders['code'] == code)]['code'].any(): # If there are orders for the same option ID, check their status\n",
    "            if orders[(orders['code'] == code) & (orders['trd_side'] == which)]['order_status'].iloc[-1] in Status: # Current order being submitted, return false\n",
    "                return False # Do not submit new order\n",
    "            else:\n",
    "                return True # Cases where order is cancelled, we can still submit a new order\n",
    "        else:\n",
    "            return True # No orders with the option ID, proceed\n",
    "    else:\n",
    "        print('order_list_query error: ', orders)\n",
    "        return False"
   ]
  },
  {
   "cell_type": "markdown",
   "metadata": {},
   "source": [
    "### Checking Positions\n",
    "\n",
    "##### Before submitting orders, we need to check if we have an existing position"
   ]
  },
  {
   "cell_type": "code",
   "execution_count": null,
   "metadata": {},
   "outputs": [],
   "source": [
    "def check_long_position(code, env, ID):\n",
    "    ret, position = trd_ctx.position_list_query(trd_env = env, acc_id = ID)\n",
    "\n",
    "    if ret == RET_OK:\n",
    "        if position[position['code'] == code].empty: \n",
    "            return True # We do not have a position\n",
    "        \n",
    "        elif position[position['code'] == code]['can_sell_qty'][0] == 0: # If we had the same position before but already sold, can_sell_qty will be 0\n",
    "            return True # No position\n",
    "    else:\n",
    "        print('position_list_query error: ', position)\n",
    "        return False\n",
    "            \n",
    "def check_sell_position(code, env, ID):\n",
    "    ret, position = trd_ctx.position_list_query(trd_env = env, acc_id = ID)\n",
    "\n",
    "    if ret == RET_OK:\n",
    "        if position[position['code'] == code].empty == False and position[position['code'] == code]['can_sell_qty'][0] >= 1: # We have an open position to sell\n",
    "                return True\n",
    "    else:\n",
    "        print('position_list_query error: ', position)\n",
    "        return False   "
   ]
  },
  {
   "cell_type": "markdown",
   "metadata": {},
   "source": [
    "### Buy / Sell Execution"
   ]
  },
  {
   "cell_type": "code",
   "execution_count": 4,
   "metadata": {},
   "outputs": [],
   "source": [
    "def buy(password, code, buy_price, env, ID):\n",
    "    ret, unlock = trd_ctx.unlock_trade(password)  # Unlock trade first\n",
    "\n",
    "    if ret == RET_OK:\n",
    "        ret, data = trd_ctx.place_order(price = buy_price, \n",
    "                                        qty = 1, \n",
    "                                        code = code, \n",
    "                                        trd_side = TrdSide.BUY,\n",
    "                                        trd_env = env, \n",
    "                                        acc_id = ID, \n",
    "                                        order_type = OrderType.NORMAL)\n",
    "        if ret == RET_OK:\n",
    "            print('submitted buy', code, buy_price)\n",
    "        else:\n",
    "            print('place_order error: ', data)\n",
    "    \n",
    "    else:\n",
    "        print('unlock_trade failed: ', unlock)\n",
    "\n",
    "def sell(password, code, sell_price, env, ID):\n",
    "    ret, unlock = trd_ctx.unlock_trade(password)  # Unlock trade first\n",
    "\n",
    "    if ret == RET_OK:\n",
    "        ret, data = trd_ctx.place_order(price = sell_price, \n",
    "                                        qty = 1, \n",
    "                                        code = code, \n",
    "                                        trd_side = TrdSide.SELL, \n",
    "                                        trd_env = env, \n",
    "                                        acc_id = ID, \n",
    "                                        order_type = OrderType.NORMAL)\n",
    "        if ret == RET_OK:\n",
    "            print('submitted buy', code, sell_price)\n",
    "        else:\n",
    "            print('place_order error: ', data)\n",
    "    \n",
    "    else:\n",
    "        print('unlock_trade failed: ', unlock)"
   ]
  },
  {
   "cell_type": "markdown",
   "metadata": {},
   "source": [
    "### Cancelling Unfulfilled Orders\n",
    "\n",
    "##### If orders have been submitted but not filled over a period of time, cancel it"
   ]
  },
  {
   "cell_type": "code",
   "execution_count": null,
   "metadata": {},
   "outputs": [],
   "source": [
    "def check_unfullfilled(password, env, ID):\n",
    "    Status = ['SUBMITTING', 'SUBMITTED']\n",
    "\n",
    "    trd_ctx = OpenSecTradeContext(filter_trdmarket = TrdMarket.US, host = '127.0.0.1', port = 11111, security_firm = SecurityFirm.FUTUSG)  \n",
    "    ret, uforders = trd_ctx.order_list_query(trd_env = env, acc_id = ID)\n",
    "\n",
    "    if ret == RET_OK:\n",
    "        if not uforders.empty:\n",
    "            uforders['create_time'] = pd.to_datetime(uforders['create_time'])\n",
    "            uforders = uforders[uforders['order_status'].isin(Status)] # Filter for submitted or submitting orders\n",
    "\n",
    "            if not uforders.empty:\n",
    "                uforders = uforders[(uforders['create_time'] + timedelta(seconds = 20)) < datetime.now() - timedelta(hours = 6)] # Check if orders have been unfilled for > 20s\n",
    "                \n",
    "                if not uforders.empty:\n",
    "                    ret, unlock = trd_ctx.unlock_trade(password)  # Unlock trade first\n",
    "                    \n",
    "                    if ret == RET_OK:\n",
    "                        ret, data = trd_ctx.cancel_all_order(trd_env = TrdEnv.REAL, acc_id = ID) # Cancel all open orders\n",
    "\n",
    "    trd_ctx.close()                        "
   ]
  },
  {
   "cell_type": "markdown",
   "metadata": {},
   "source": [
    "# Execution\n",
    "\n",
    "### Here, the code will loop indefinitely until cancelled, executing trades whenever there is a new alert"
   ]
  },
  {
   "cell_type": "code",
   "execution_count": null,
   "metadata": {},
   "outputs": [],
   "source": [
    "environment = TrdEnv.SIMULATE\n",
    "accID = 448100 # 283726785215800433 real, 43368 sim cash, 448100 sim option\n",
    "prev, prev_action, prev_price = create_option() # output 0, 0, 0 as a start\n",
    "pwd_unlock = '---'\n",
    "commands = []\n",
    "\n",
    "while True:\n",
    "    \n",
    "    current, current_action, current_price = create_option()\n",
    "\n",
    "    if current != 0 and (current != prev or current_action != prev_action or current_price != prev_price):\n",
    "        combine = current_action + ' ' + current\n",
    "        commands.append(combine)    \n",
    "\n",
    "        if current_action == 'BTO':\n",
    "            print('buy', current, current_price)\n",
    "            \n",
    "            trd_ctx = OpenSecTradeContext(filter_trdmarket = TrdMarket.US, host = '127.0.0.1', port = 11111, security_firm = SecurityFirm.FUTUSG)\n",
    "\n",
    "            print('checking pos')\n",
    "            if check_long_position(current, environment, accID):\n",
    "                \n",
    "                print('checking orders')\n",
    "                if check_order(current, 'BUY', environment, accID):\n",
    "                    \n",
    "                    print('checking bp')\n",
    "                    if check_bp(current, current_price, environment, accID):\n",
    "                        \n",
    "                        print('buying')\n",
    "                        buy(pwd_unlock, current, current_price, environment, accID)\n",
    "\n",
    "            trd_ctx.close()\n",
    "            prev, prev_action, prev_price = current, current_action, current_price\n",
    "\n",
    "        elif current_action == 'STC':\n",
    "            print('sell', current, current_price)\n",
    "\n",
    "            trd_ctx = OpenSecTradeContext(filter_trdmarket=TrdMarket.US, host='127.0.0.1', port=11111, security_firm=SecurityFirm.FUTUSG)\n",
    "\n",
    "            print('checking pos')\n",
    "            if check_sell_position(current, environment, accID):\n",
    "                \n",
    "                print('checking orders')\n",
    "                if check_order(current, 'SELL', environment, accID):\n",
    "                                            \n",
    "                    print('selling')\n",
    "                    sell(pwd_unlock, current, current_price, environment, accID)\n",
    "\n",
    "            trd_ctx.close()\n",
    "            prev, prev_action, prev_price = current, current_action, current_price\n",
    "    \n",
    "          \n",
    "    check_unfullfilled(pwd_unlock, environment, accID)\n",
    "\n",
    "    df = pd.DataFrame(commands)\n",
    "    print(df)\n",
    "    "
   ]
  }
 ],
 "metadata": {
  "kernelspec": {
   "display_name": "Python 3.9.2 64-bit",
   "language": "python",
   "name": "python3"
  },
  "language_info": {
   "codemirror_mode": {
    "name": "ipython",
    "version": 3
   },
   "file_extension": ".py",
   "mimetype": "text/x-python",
   "name": "python",
   "nbconvert_exporter": "python",
   "pygments_lexer": "ipython3",
   "version": "3.9.2"
  },
  "vscode": {
   "interpreter": {
    "hash": "a28835bef25f9a7bba4f692a2ae1556c8d98fbd467b5aeb8026278ed15bd6ec2"
   }
  }
 },
 "nbformat": 4,
 "nbformat_minor": 4
}
