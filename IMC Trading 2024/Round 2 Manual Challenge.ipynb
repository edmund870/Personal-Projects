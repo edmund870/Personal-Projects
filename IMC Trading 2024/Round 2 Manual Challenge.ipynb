{
 "cells": [
  {
   "cell_type": "markdown",
   "metadata": {},
   "source": [
    "# Round 1 Manual Challenge"
   ]
  },
  {
   "cell_type": "markdown",
   "metadata": {},
   "source": [
    "Today is a special day. Representatives from three other archipelagos are visiting to trade their currencies with us. You can trade Wasabi roots with Sing the Songbird, Pizza slices with Devin the Duck, and Snowballs with Pam the Penguin.\n",
    "\n",
    "Your objective is to trade these currencies and maximize your profit in SeaShells. The number of trades is limited to 5. You must begin your first trade and end your last trade with our own currency; SeaShells. Use the trading table to develop your trading strategy, and use the drop down fields to translate your strategy into actionable input."
   ]
  },
  {
   "cell_type": "markdown",
   "metadata": {},
   "source": [
    "![Trading Table.png](<Trading Table.png>)\n",
    "\n",
    "The trading table shows you the exchange rates from one currency to another. For example: For every Pizza slice you trade for Wasabi roots, you will get 0.48 Wasabi root in return."
   ]
  },
  {
   "cell_type": "code",
   "execution_count": 94,
   "metadata": {},
   "outputs": [],
   "source": [
    "import pandas as pd\n",
    "from itertools import product\n",
    "pd.options.display.float_format = \"{:,.20f}\".format"
   ]
  },
  {
   "cell_type": "code",
   "execution_count": 95,
   "metadata": {},
   "outputs": [],
   "source": [
    "fx = {\n",
    "    'Pizza Slice' : {\n",
    "        'Pizza Slice' : 1,\n",
    "        'Wasabi Root' : 0.48, \n",
    "        'Snowball': 1.52, \n",
    "        'Shells' : 0.71\n",
    "    },\n",
    "    'Wasabi Root' : {\n",
    "        'Pizza Slice' : 2.05,\n",
    "        'Wasabi Root' : 1, \n",
    "        'Snowball': 3.26, \n",
    "        'Shells' : 1.56\n",
    "    },\n",
    "    'Snowball' : {\n",
    "        'Pizza Slice' : 0.64,\n",
    "        'Wasabi Root' : 0.3, \n",
    "        'Snowball': 1, \n",
    "        'Shells' : 0.46\n",
    "    },\n",
    "    'Shells' : {\n",
    "        'Pizza Slice' : 1.41, \n",
    "        'Wasabi Root': 0.61, \n",
    "        'Snowball' : 2.08,\n",
    "        'Shells' : 1\n",
    "    }\n",
    "}"
   ]
  },
  {
   "cell_type": "code",
   "execution_count": 96,
   "metadata": {},
   "outputs": [
    {
     "name": "stdout",
     "output_type": "stream",
     "text": [
      "['Shells', 'Pizza Slice', 'Wasabi Root', 'Shells', 'Pizza Slice', 'Shells'] 1.0569693888\n"
     ]
    }
   ],
   "source": [
    "items = ['Pizza Slice', 'Wasabi Root', 'Snowball', 'Shells']\n",
    "ans = {}\n",
    "prev_value = 0\n",
    "\n",
    "# maximum trades is 5\n",
    "for repeat in range(1, 5):\n",
    "    \n",
    "    for p in product(items, repeat = repeat):\n",
    "        p = list(p)\n",
    "\n",
    "        # first and last trade needs to be shells\n",
    "        p = ['Shells'] + p + ['Shells']\n",
    "\n",
    "        final_value = 1\n",
    "        for i in range(0, len(p) - 1):\n",
    "            exchange_from = p[i]\n",
    "            exchange_to = p[i+1]\n",
    "            final_value *= fx[exchange_from][exchange_to] \n",
    "\n",
    "        if final_value > prev_value:\n",
    "            combi, value = p, final_value\n",
    "            prev_value = final_value\n",
    "            \n",
    "        ans[str(p)] = final_value\n",
    "\n",
    "print(combi, value)"
   ]
  },
  {
   "cell_type": "markdown",
   "metadata": {},
   "source": [
    "We can see that the optimal solution is ['Shells', 'Pizza Slice', 'Wasabi Root', 'Shells', 'Pizza Slice', 'Shells'] producing a profit of 1.05696938880000002037 \\\n",
    "The second optimal solution ['Shells', 'Pizza Slice', 'Shells', 'Pizza Slice', 'Wasabi Root', 'Shells'] produced a close profit of 1.05696938879999979832"
   ]
  },
  {
   "cell_type": "code",
   "execution_count": 97,
   "metadata": {},
   "outputs": [
    {
     "data": {
      "text/plain": [
       "value                 \n",
       "1.05696938880000002037     1\n",
       "1.05696938879999979832     1\n",
       "1.05580800000000007977    15\n",
       "1.03891507199999977296     1\n",
       "1.03258022399999993546     1\n",
       "                          ..\n",
       "0.86832218999999988274     1\n",
       "0.86370534399999998598     1\n",
       "0.84949966399999998767     1\n",
       "0.84949966399999987665     1\n",
       "0.84488281799999986887     2\n",
       "Length: 82, dtype: int64"
      ]
     },
     "metadata": {},
     "output_type": "display_data"
    },
    {
     "data": {
      "text/html": [
       "<div>\n",
       "<style scoped>\n",
       "    .dataframe tbody tr th:only-of-type {\n",
       "        vertical-align: middle;\n",
       "    }\n",
       "\n",
       "    .dataframe tbody tr th {\n",
       "        vertical-align: top;\n",
       "    }\n",
       "\n",
       "    .dataframe thead th {\n",
       "        text-align: right;\n",
       "    }\n",
       "</style>\n",
       "<table border=\"1\" class=\"dataframe\">\n",
       "  <thead>\n",
       "    <tr style=\"text-align: right;\">\n",
       "      <th></th>\n",
       "      <th>value</th>\n",
       "    </tr>\n",
       "  </thead>\n",
       "  <tbody>\n",
       "    <tr>\n",
       "      <th>['Shells', 'Pizza Slice', 'Wasabi Root', 'Shells', 'Pizza Slice', 'Shells']</th>\n",
       "      <td>1.05696938880000002037</td>\n",
       "    </tr>\n",
       "    <tr>\n",
       "      <th>['Shells', 'Pizza Slice', 'Shells', 'Pizza Slice', 'Wasabi Root', 'Shells']</th>\n",
       "      <td>1.05696938879999979832</td>\n",
       "    </tr>\n",
       "    <tr>\n",
       "      <th>['Shells', 'Shells', 'Pizza Slice', 'Wasabi Root', 'Shells', 'Shells']</th>\n",
       "      <td>1.05580800000000007977</td>\n",
       "    </tr>\n",
       "    <tr>\n",
       "      <th>['Shells', 'Pizza Slice', 'Wasabi Root', 'Wasabi Root', 'Shells', 'Shells']</th>\n",
       "      <td>1.05580800000000007977</td>\n",
       "    </tr>\n",
       "    <tr>\n",
       "      <th>['Shells', 'Shells', 'Pizza Slice', 'Pizza Slice', 'Wasabi Root', 'Shells']</th>\n",
       "      <td>1.05580800000000007977</td>\n",
       "    </tr>\n",
       "    <tr>\n",
       "      <th>...</th>\n",
       "      <td>...</td>\n",
       "    </tr>\n",
       "    <tr>\n",
       "      <th>['Shells', 'Wasabi Root', 'Pizza Slice', 'Snowball', 'Pizza Slice', 'Shells']</th>\n",
       "      <td>0.86370534399999998598</td>\n",
       "    </tr>\n",
       "    <tr>\n",
       "      <th>['Shells', 'Wasabi Root', 'Pizza Slice', 'Shells', 'Snowball', 'Shells']</th>\n",
       "      <td>0.84949966399999998767</td>\n",
       "    </tr>\n",
       "    <tr>\n",
       "      <th>['Shells', 'Snowball', 'Shells', 'Wasabi Root', 'Pizza Slice', 'Shells']</th>\n",
       "      <td>0.84949966399999987665</td>\n",
       "    </tr>\n",
       "    <tr>\n",
       "      <th>['Shells', 'Wasabi Root', 'Shells', 'Wasabi Root', 'Pizza Slice', 'Shells']</th>\n",
       "      <td>0.84488281799999986887</td>\n",
       "    </tr>\n",
       "    <tr>\n",
       "      <th>['Shells', 'Wasabi Root', 'Pizza Slice', 'Shells', 'Wasabi Root', 'Shells']</th>\n",
       "      <td>0.84488281799999986887</td>\n",
       "    </tr>\n",
       "  </tbody>\n",
       "</table>\n",
       "<p>340 rows × 1 columns</p>\n",
       "</div>"
      ],
      "text/plain": [
       "                                                                    value\n",
       "['Shells', 'Pizza Slice', 'Wasabi Root', 'Shell... 1.05696938880000002037\n",
       "['Shells', 'Pizza Slice', 'Shells', 'Pizza Slic... 1.05696938879999979832\n",
       "['Shells', 'Shells', 'Pizza Slice', 'Wasabi Roo... 1.05580800000000007977\n",
       "['Shells', 'Pizza Slice', 'Wasabi Root', 'Wasab... 1.05580800000000007977\n",
       "['Shells', 'Shells', 'Pizza Slice', 'Pizza Slic... 1.05580800000000007977\n",
       "...                                                                   ...\n",
       "['Shells', 'Wasabi Root', 'Pizza Slice', 'Snowb... 0.86370534399999998598\n",
       "['Shells', 'Wasabi Root', 'Pizza Slice', 'Shell... 0.84949966399999998767\n",
       "['Shells', 'Snowball', 'Shells', 'Wasabi Root',... 0.84949966399999987665\n",
       "['Shells', 'Wasabi Root', 'Shells', 'Wasabi Roo... 0.84488281799999986887\n",
       "['Shells', 'Wasabi Root', 'Pizza Slice', 'Shell... 0.84488281799999986887\n",
       "\n",
       "[340 rows x 1 columns]"
      ]
     },
     "metadata": {},
     "output_type": "display_data"
    }
   ],
   "source": [
    "solutions = pd.DataFrame.from_dict(ans, orient='index').rename(columns = {0 : 'value'})\n",
    "display(solutions.value_counts().sort_index(ascending = False))\n",
    "display(solutions.sort_values(by = 'value', ascending = False))"
   ]
  }
 ],
 "metadata": {
  "kernelspec": {
   "display_name": "Python 3",
   "language": "python",
   "name": "python3"
  },
  "language_info": {
   "codemirror_mode": {
    "name": "ipython",
    "version": 3
   },
   "file_extension": ".py",
   "mimetype": "text/x-python",
   "name": "python",
   "nbconvert_exporter": "python",
   "pygments_lexer": "ipython3",
   "version": "3.9.2"
  }
 },
 "nbformat": 4,
 "nbformat_minor": 2
}
