{
 "cells": [
  {
   "cell_type": "markdown",
   "metadata": {},
   "source": [
    "# Round 1 Manual Challenge"
   ]
  },
  {
   "cell_type": "markdown",
   "metadata": {},
   "source": [
    "With a large school of goldfish visiting, an opportunity arises to acquire some top grade `SCUBA_GEAR`. You only have two chances to offer a good price. Each one of the goldfish will accept the lowest bid that is over their reserve price. You know there’s a constant desire for scuba gear on the archipelago. So, at the end of the round, you’ll be able to sell them for 1000 SeaShells a piece.\n",
    "\n",
    "Whilst not every goldfish has the same reserve price, you know the distribution of their reserve prices. The reserve price will be no lower than 900 and no higher than 1000. The probability scales linearly from 0 at 900 to most likely at 1000.\n",
    "\n",
    "You only trade with the goldfish. Bids of other participants will not affect your results.\n",
    "\n",
    "Think hard about how you want to set your two bids in order to walk away with some serious SeaShell profit."
   ]
  },
  {
   "cell_type": "code",
   "execution_count": 1,
   "metadata": {},
   "outputs": [],
   "source": [
    "import numpy as np\n",
    "from scipy.optimize import minimize"
   ]
  },
  {
   "cell_type": "code",
   "execution_count": 2,
   "metadata": {},
   "outputs": [
    {
     "name": "stdout",
     "output_type": "stream",
     "text": [
      "[951.00003399 975.28576927] -2032553405.66144\n"
     ]
    }
   ],
   "source": [
    "outcomes = np.arange(900, 1001, 1)\n",
    "proba = np.arange(0, 1.01, 0.01)\n",
    "proba_norm = (proba / proba.sum())\n",
    "\n",
    "reserve_price = np.random.choice(outcomes, size = 100000000, p = proba_norm)\n",
    "\n",
    "def objective(vars):\n",
    "    x,y = vars\n",
    "    if y < x: \n",
    "        return 0\n",
    "    else:\n",
    "        holding = np.where(x > reserve_price, x,\n",
    "                        np.where(y > reserve_price, y, 1000))\n",
    "        profit = (1000 - holding).sum()\n",
    "        return -profit\n",
    "\n",
    "initial_guess = [901, 1000]\n",
    "\n",
    "result = minimize(objective, initial_guess, method = 'Powell', bounds = ((901, 1000), (901, 1000)))\n",
    "\n",
    "print(result.x, result.fun)"
   ]
  }
 ],
 "metadata": {
  "kernelspec": {
   "display_name": "base",
   "language": "python",
   "name": "python3"
  },
  "language_info": {
   "codemirror_mode": {
    "name": "ipython",
    "version": 3
   },
   "file_extension": ".py",
   "mimetype": "text/x-python",
   "name": "python",
   "nbconvert_exporter": "python",
   "pygments_lexer": "ipython3",
   "version": "3.11.5"
  }
 },
 "nbformat": 4,
 "nbformat_minor": 2
}
